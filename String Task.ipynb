{
 "cells": [
  {
   "cell_type": "code",
   "execution_count": 16,
   "metadata": {},
   "outputs": [
    {
     "name": "stdout",
     "output_type": "stream",
     "text": [
      "Codeforces\n",
      ".c.d.f.r.c.s\n"
     ]
    }
   ],
   "source": [
    "s = input().lower()\n",
    "instr = list(s.strip())\n",
    "lis = []\n",
    "vowels = ('a','e','i','o','u','y')\n",
    "for i in instr:\n",
    "    if i not in vowels:\n",
    "        lis.append(i)\n",
    "s = \"\"\n",
    "for i in lis:\n",
    "    s+= '.' + i\n",
    "print(s)"
   ]
  },
  {
   "cell_type": "code",
   "execution_count": null,
   "metadata": {},
   "outputs": [],
   "source": []
  },
  {
   "cell_type": "code",
   "execution_count": null,
   "metadata": {},
   "outputs": [],
   "source": []
  }
 ],
 "metadata": {
  "kernelspec": {
   "display_name": "Python 3",
   "language": "python",
   "name": "python3"
  },
  "language_info": {
   "codemirror_mode": {
    "name": "ipython",
    "version": 3
   },
   "file_extension": ".py",
   "mimetype": "text/x-python",
   "name": "python",
   "nbconvert_exporter": "python",
   "pygments_lexer": "ipython3",
   "version": "3.7.4"
  }
 },
 "nbformat": 4,
 "nbformat_minor": 2
}
