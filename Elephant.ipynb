{
 "cells": [
  {
   "cell_type": "code",
   "execution_count": 18,
   "metadata": {},
   "outputs": [
    {
     "name": "stdout",
     "output_type": "stream",
     "text": [
      "20\n",
      "6\n"
     ]
    }
   ],
   "source": [
    "x = int(input())\n",
    "sum = 0\n",
    "step_count = 0\n",
    "lis = [5, 4, 3, 2, 1]\n",
    "while sum <= x:\n",
    "    for i in lis:\n",
    "        sum = sum + i\n",
    "        if sum == x:\n",
    "            step_count += 1\n",
    "            break\n",
    "        elif sum < x:\n",
    "            step_count += 1\n",
    "            continue\n",
    "print(step_count)"
   ]
  }
 ],
 "metadata": {
  "kernelspec": {
   "display_name": "Python 3",
   "language": "python",
   "name": "python3"
  }
 },
 "nbformat": 4,
 "nbformat_minor": 2
}
