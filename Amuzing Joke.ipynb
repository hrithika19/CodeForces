{
 "cells": [
  {
   "cell_type": "code",
   "execution_count": 6,
   "metadata": {},
   "outputs": [
    {
     "name": "stdout",
     "output_type": "stream",
     "text": [
      "PAPAINOEL\n",
      "JOULUPUKKI\n",
      "JOULNAPAOILELUPUKKI\n",
      "YES\n"
     ]
    }
   ],
   "source": [
    "string1 = input().upper()\n",
    "string2 = input().upper()\n",
    "string3 = input().upper()\n",
    "lis1 = list(string3)\n",
    "string4 = string1 + string2\n",
    "lis2 = list(string4)\n",
    "lis3 = lis2\n",
    "\n",
    "for i in string3:\n",
    "    if i in lis3:\n",
    "        lis1.remove(i) \n",
    "        lis2.remove(i)\n",
    "    \n",
    "if set(lis1)==set(lis2):\n",
    "    print(\"YES\")\n",
    "else:\n",
    "    print(\"NO\")\n",
    "\n",
    "    "
   ]
  },
  {
   "cell_type": "markdown",
   "metadata": {},
   "source": [
    "PAPAINOEL\n",
    "JOULUPUKKI\n",
    "JOULNAPAOILELUPUKKI\n",
    "\n",
    "\n",
    "SANTACLAUS\n",
    "DEDMOROZ\n",
    "SANTAMOROZDEDCLAUS\n",
    "\n",
    "BABBONATALE\n",
    "FATHERCHRISTMAS\n",
    "BABCHRISTMASBONATALLEFATHER\n",
    "\n"
   ]
  }
 ],
 "metadata": {
  "kernelspec": {
   "display_name": "Python 3",
   "language": "python",
   "name": "python3"
  },
  "language_info": {
   "codemirror_mode": {
    "name": "ipython",
    "version": 3
   },
   "file_extension": ".py",
   "mimetype": "text/x-python",
   "name": "python",
   "nbconvert_exporter": "python",
   "pygments_lexer": "ipython3",
   "version": "3.7.4"
  }
 },
 "nbformat": 4,
 "nbformat_minor": 2
}
