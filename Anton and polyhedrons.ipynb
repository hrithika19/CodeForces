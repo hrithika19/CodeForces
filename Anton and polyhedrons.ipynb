{
 "cells": [
  {
   "cell_type": "code",
   "execution_count": 9,
   "metadata": {},
   "outputs": [
    {
     "name": "stdout",
     "output_type": "stream",
     "text": [
      "4\n",
      "Icosahedron\n",
      "Cube\n",
      "Tetrahedron\n",
      "Dodecahedron\n",
      "42\n"
     ]
    }
   ],
   "source": [
    "faces = 0\n",
    "n = int(input())\n",
    "for i in range(n):\n",
    "    s = input()\n",
    "    if(s == \"Tetrahedron\"):\n",
    "        faces += 4\n",
    "    elif(s == \"Cube\"):\n",
    "        faces += 6\n",
    "    elif(s == \"Octahedron\"):\n",
    "        faces += 8\n",
    "    elif(s == \"Dodecahedron\"):\n",
    "        faces += 12\n",
    "    elif(s == \"Icosahedron\"):\n",
    "        faces += 20\n",
    "print(faces)"
   ]
  }
 ],
 "metadata": {
  "kernelspec": {
   "display_name": "Python 3",
   "language": "python",
   "name": "python3"
  },
  "language_info": {
   "codemirror_mode": {
    "name": "ipython",
    "version": 3
   },
   "file_extension": ".py",
   "mimetype": "text/x-python",
   "name": "python",
   "nbconvert_exporter": "python",
   "pygments_lexer": "ipython3",
   "version": "3.7.4"
  }
 },
 "nbformat": 4,
 "nbformat_minor": 2
}
