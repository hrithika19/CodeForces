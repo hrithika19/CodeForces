{
 "cells": [
  {
   "cell_type": "code",
   "execution_count": 1,
   "metadata": {},
   "outputs": [
    {
     "name": "stdout",
     "output_type": "stream",
     "text": [
      "2\n",
      "3\n",
      "3 2 1\n",
      "6\n",
      "3 1 4 1 5 9\n",
      "2\n",
      "1\n",
      "2\n",
      "1\n",
      "1\n"
     ]
    }
   ],
   "source": [
    "t = int(input())\n",
    "for i in range(t):\n",
    "    n = int(input())\n",
    "    a = list(map(int,input().strip().split()))[:n] \n",
    "lis = [1]*n\n",
    "for i in range(1,n):\n",
    "    for j in range(0,i):\n",
    "        if a[i] > a[j] and lis[i] < lis[j]+1 :\n",
    "            lis[i] = lis[j] + 1\n",
    "max_value = 0\n",
    "\n",
    "    max_value = max(max_value, lis[i])\n",
    "    print(max_value)"
   ]
  },
  {
   "cell_type": "code",
   "execution_count": 2,
   "metadata": {},
   "outputs": [
    {
     "name": "stdout",
     "output_type": "stream",
     "text": [
      "5\n"
     ]
    }
   ],
   "source": [
    "def lis(arr):\n",
    "    n = len(arr)\n",
    "  \n",
    "    # Declare the list (array) for LIS and initialize LIS\n",
    "    # values for all indexes\n",
    "    lis = [1]*n\n",
    "  \n",
    "    # Compute optimized LIS values in bottom up manner\n",
    "    for i in range (1, n):\n",
    "        for j in range(0, i):\n",
    "            if arr[i] > arr[j] and lis[i]< lis[j] + 1 :\n",
    "                lis[i] = lis[j]+1\n",
    "  \n",
    "    # Initialize maximum to 0 to get the maximum of all\n",
    "    # LIS\n",
    "    maximum = 0\n",
    "  \n",
    "    # Pick maximum of all LIS values\n",
    "    for i in range(n):\n",
    "        maximum = max(maximum, lis[i])\n",
    "  \n",
    "    return maximum\n",
    "# end of lis function\n",
    "  \n",
    "# Driver program to test above function\n",
    "arr = [10, 22, 9, 33, 21, 50, 41, 60]\n",
    "print(lis(arr))"
   ]
  },
  {
   "cell_type": "code",
   "execution_count": 3,
   "metadata": {},
   "outputs": [
    {
     "name": "stdout",
     "output_type": "stream",
     "text": [
      "2\n",
      "3\n",
      "3 2 1\n",
      "3\n",
      "6\n",
      "3 1 4 1 5 9\n",
      "5\n"
     ]
    }
   ],
   "source": [
    "t = int(input())\n",
    "while(t > 0):\n",
    "    input()\n",
    "    values = input().rsplit(\" \")\n",
    "    numberset = set(values)\n",
    "    print(len(numberset))\n",
    "    t -= 1"
   ]
  }
 ],
 "metadata": {
  "kernelspec": {
   "display_name": "Python 3",
   "language": "python",
   "name": "python3"
  },
  "language_info": {
   "codemirror_mode": {
    "name": "ipython",
    "version": 3
   },
   "file_extension": ".py",
   "mimetype": "text/x-python",
   "name": "python",
   "nbconvert_exporter": "python",
   "pygments_lexer": "ipython3",
   "version": "3.7.4"
  }
 },
 "nbformat": 4,
 "nbformat_minor": 2
}
