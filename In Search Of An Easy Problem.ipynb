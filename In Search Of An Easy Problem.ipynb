{
 "cells": [
  {
   "cell_type": "code",
   "execution_count": 4,
   "metadata": {},
   "outputs": [
    {
     "name": "stdout",
     "output_type": "stream",
     "text": [
      "10\n",
      "1 0 0 0 0 0 0 0 0 0\n",
      "HARD\n"
     ]
    }
   ],
   "source": [
    "n = int(input())\n",
    "input_string = input()\n",
    "user_list = input_string.split()\n",
    "for i in range(n):\n",
    "    user_list[i] = int(user_list[i])\n",
    "if 1 in user_list:\n",
    "    print(\"HARD\")\n",
    "else:\n",
    "    print(\"EASY\")"
   ]
  }
 ],
 "metadata": {
  "kernelspec": {
   "display_name": "Python 3",
   "language": "python",
   "name": "python3"
  },
  "language_info": {
   "codemirror_mode": {
    "name": "ipython",
    "version": 3
   },
   "file_extension": ".py",
   "mimetype": "text/x-python",
   "name": "python",
   "nbconvert_exporter": "python",
   "pygments_lexer": "ipython3",
   "version": "3.7.4"
  }
 },
 "nbformat": 4,
 "nbformat_minor": 2
}
