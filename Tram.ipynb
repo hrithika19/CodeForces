{
 "cells": [
  {
   "cell_type": "code",
   "execution_count": 7,
   "metadata": {},
   "outputs": [
    {
     "name": "stdout",
     "output_type": "stream",
     "text": [
      "4\n",
      "0 3\n",
      "2 5\n",
      "4 2\n",
      "4 0\n",
      "6\n"
     ]
    }
   ],
   "source": [
    "n = int(input())\n",
    "c = m = 0\n",
    "for i in range(n):\n",
    "    a, b = map(int, input().split())\n",
    "    c = (c - a) + b\n",
    "    m = max(c, m)\n",
    "\n",
    "print(m)"
   ]
  },
  {
   "cell_type": "code",
   "execution_count": null,
   "metadata": {},
   "outputs": [],
   "source": [
    "4\n",
    "0 3\n",
    "2 5\n",
    "4 2\n",
    "4 0"
   ]
  }
 ],
 "metadata": {
  "kernelspec": {
   "display_name": "Python 3",
   "language": "python",
   "name": "python3"
  },
  "language_info": {
   "codemirror_mode": {
    "name": "ipython",
    "version": 3
   },
   "file_extension": ".py",
   "mimetype": "text/x-python",
   "name": "python",
   "nbconvert_exporter": "python",
   "pygments_lexer": "ipython3",
   "version": "3.7.4"
  }
 },
 "nbformat": 4,
 "nbformat_minor": 2
}
