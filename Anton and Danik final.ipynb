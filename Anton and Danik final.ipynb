{
 "cells": [
  {
   "cell_type": "code",
   "execution_count": 3,
   "metadata": {},
   "outputs": [
    {
     "name": "stdout",
     "output_type": "stream",
     "text": [
      "6\n",
      "DADADA\n",
      "Friendship\n"
     ]
    }
   ],
   "source": [
    "n = int(input())\n",
    "s = input()\n",
    "countA = 0\n",
    "countD = 0\n",
    "for i in range(n):\n",
    "    if s[i] == \"A\":\n",
    "        countA+=1\n",
    "    if s[i] == \"D\":\n",
    "        countD+=1\n",
    "if countA > countD:\n",
    "    print(\"Anton\")\n",
    "elif countD > countA:\n",
    "    print(\"Danik\")\n",
    "elif countA == countD:\n",
    "    print(\"Friendship\")"
   ]
  }
 ],
 "metadata": {
  "kernelspec": {
   "display_name": "Python 3",
   "language": "python",
   "name": "python3"
  },
  "language_info": {
   "codemirror_mode": {
    "name": "ipython",
    "version": 3
   },
   "file_extension": ".py",
   "mimetype": "text/x-python",
   "name": "python",
   "nbconvert_exporter": "python",
   "pygments_lexer": "ipython3",
   "version": "3.7.4"
  }
 },
 "nbformat": 4,
 "nbformat_minor": 2
}
