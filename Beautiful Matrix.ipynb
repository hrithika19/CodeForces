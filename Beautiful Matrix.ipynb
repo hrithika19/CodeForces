{
 "cells": [
  {
   "cell_type": "code",
   "execution_count": 2,
   "metadata": {},
   "outputs": [
    {
     "name": "stdout",
     "output_type": "stream",
     "text": [
      "0 0 0 0 0\n",
      "0 0 0 0 0\n",
      "0 1 0 0 0 \n",
      "0 0 0 0 0\n",
      "0 0 0 0 0\n",
      "1\n"
     ]
    }
   ],
   "source": [
    "for i in range(5):\n",
    "    s = list(map(int, input().split()))\n",
    "    for j in range(len(s)):\n",
    "        if s[j] == 1:\n",
    "            if i == 0 or i == 4:\n",
    "                if j == 0 or j == 4:\n",
    "                    moves = 4\n",
    "                elif j == 1 or j == 3:\n",
    "                    moves = 3\n",
    "                else:\n",
    "                    moves = 2\n",
    "            elif i == 1 or i == 3:\n",
    "                if j == 0 or j == 4:\n",
    "                    moves = 3\n",
    "                elif j == 1 or j == 3:\n",
    "                    moves = 2\n",
    "                else:\n",
    "                    moves = 1\n",
    "            else:\n",
    "                if j == 0 or j == 4:\n",
    "                    moves = 2\n",
    "                elif j == 1 or j== 3:\n",
    "                    moves = 1\n",
    "                else:\n",
    "                    moves = 0\n",
    "print(moves)"
   ]
  }
 ],
 "metadata": {
  "kernelspec": {
   "display_name": "Python 3",
   "language": "python",
   "name": "python3"
  },
  "language_info": {
   "codemirror_mode": {
    "name": "ipython",
    "version": 3
   },
   "file_extension": ".py",
   "mimetype": "text/x-python",
   "name": "python",
   "nbconvert_exporter": "python",
   "pygments_lexer": "ipython3",
   "version": "3.7.4"
  }
 },
 "nbformat": 4,
 "nbformat_minor": 2
}
