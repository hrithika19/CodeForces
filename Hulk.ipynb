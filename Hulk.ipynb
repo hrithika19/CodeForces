{
 "cells": [
  {
   "cell_type": "code",
   "execution_count": 11,
   "metadata": {},
   "outputs": [
    {
     "name": "stdout",
     "output_type": "stream",
     "text": [
      "3\n",
      "I hate that I love that I hate it \n"
     ]
    }
   ],
   "source": [
    "n = int(input())\n",
    "a = \"I love\"\n",
    "b = \"I hate\"\n",
    "for i in range(1,n+1):\n",
    "    if i != n:\n",
    "        print(a + \" that \" if i % 2 == 0 else b + \" that \", end = '')\n",
    "          \n",
    "    if i == n:\n",
    "        print(a + \" it \" if i % 2 == 0 else b + \" it \")\n",
    "             \n",
    "        "
   ]
  }
 ],
 "metadata": {
  "kernelspec": {
   "display_name": "Python 3",
   "language": "python",
   "name": "python3"
  },
  "language_info": {
   "codemirror_mode": {
    "name": "ipython",
    "version": 3
   },
   "file_extension": ".py",
   "mimetype": "text/x-python",
   "name": "python",
   "nbconvert_exporter": "python",
   "pygments_lexer": "ipython3",
   "version": "3.7.4"
  }
 },
 "nbformat": 4,
 "nbformat_minor": 2
}
