{
 "cells": [
  {
   "cell_type": "code",
   "execution_count": 8,
   "metadata": {},
   "outputs": [
    {
     "name": "stdout",
     "output_type": "stream",
     "text": [
      "1\n",
      "++x\n",
      "1\n"
     ]
    }
   ],
   "source": [
    "y = int(input())\n",
    "x = 0\n",
    "for i in range(y):\n",
    "    statement = input()\n",
    "\n",
    "    if statement == 'x++':\n",
    "        x += 1 \n",
    "    if statement == '++x':\n",
    "        x += 1\n",
    "    if statement == 'x--':\n",
    "        x -= 1\n",
    "    if statement == '--x':\n",
    "        x -= 1\n",
    "print(x)\n",
    "    "
   ]
  }
 ],
 "metadata": {
  "kernelspec": {
   "display_name": "Python 3",
   "language": "python",
   "name": "python3"
  },
  "language_info": {
   "codemirror_mode": {
    "name": "ipython",
    "version": 3
   },
   "file_extension": ".py",
   "mimetype": "text/x-python",
   "name": "python",
   "nbconvert_exporter": "python",
   "pygments_lexer": "ipython3",
   "version": "3.7.4"
  }
 },
 "nbformat": 4,
 "nbformat_minor": 2
}
