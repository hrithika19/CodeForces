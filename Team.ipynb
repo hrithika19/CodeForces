{
 "cells": [
  {
   "cell_type": "code",
   "execution_count": 1,
   "metadata": {},
   "outputs": [
    {
     "name": "stdout",
     "output_type": "stream",
     "text": [
      "3\n",
      "1 1 0\n",
      "1 1 1\n",
      "1 0 0\n",
      "2\n"
     ]
    }
   ],
   "source": [
    "count = 0\n",
    "for i in range(int(input())):\n",
    "    c=0\n",
    "    lis=list(map(int,input().split()))\n",
    "    for i in lis:\n",
    "        if i==1:\n",
    "            c+=1\n",
    "    if c>=2:\n",
    "        count+=1\n",
    "print(count)\n",
    "\n",
    "        "
   ]
  },
  {
   "cell_type": "code",
   "execution_count": null,
   "metadata": {},
   "outputs": [],
   "source": []
  }
 ],
 "metadata": {
  "kernelspec": {
   "display_name": "Python 3",
   "language": "python",
   "name": "python3"
  },
  "language_info": {
   "codemirror_mode": {
    "name": "ipython",
    "version": 3
   },
   "file_extension": ".py",
   "mimetype": "text/x-python",
   "name": "python",
   "nbconvert_exporter": "python",
   "pygments_lexer": "ipython3",
   "version": "3.7.4"
  }
 },
 "nbformat": 4,
 "nbformat_minor": 2
}
